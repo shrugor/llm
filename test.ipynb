{
 "cells": [
  {
   "cell_type": "markdown",
   "id": "9ce464cc",
   "metadata": {},
   "source": [
    "# 测试field"
   ]
  },
  {
   "cell_type": "code",
   "execution_count": null,
   "id": "57cdf92a",
   "metadata": {},
   "outputs": [],
   "source": [
    "from dataclasses import dataclass, field\n",
    "from typing import List\n",
    "import uuid\n",
    "\n",
    "@dataclass\n",
    "class User:\n",
    "    username: str\n",
    "    # 默认值\n",
    "    email: str = field(default=\"\")\n",
    "    # 使用 default_factory 创建空列表（避免共享引用）\n",
    "    permissions: List[str] = field(default_factory=list)\n",
    "    # 禁止初始化，且默认通过工厂生成唯一ID\n",
    "    user_id: str = field(init=False, default_factory=lambda: uuid.uuid4().hex)\n",
    "    # 禁止在 repr 中显示\n",
    "    _secret: str = field(repr=False, default=\"hidden\")\n",
    "\n",
    "\n",
    "def test_field_default_factory():\n",
    "    user1 = User(\"bob\")\n",
    "    user2 = User(\"charlie\")\n",
    "    # 测试 default_factory 是否生成独立列表\n",
    "    user1.permissions.append(\"read\")\n",
    "    assert user1.permissions == [\"read\"]\n",
    "    assert user2.permissions == []\n",
    "\n",
    "def test_repr_excludes_secret():\n",
    "    user = User(username=\"dave\", _secret=\"top_secret\")\n",
    "    assert \"_secret\" not in repr(user)\n",
    "\n",
    "def test_unique_user_id():\n",
    "    user1 = User(\"eve\")\n",
    "    user2 = User(\"frank\")\n",
    "    assert user1.user_id != user2.user_id\n",
    "\n",
    "def test_custom_email():\n",
    "    user = User(\"grace\", email=\"grace@example.com\")\n",
    "    assert user.email == \"grace@example.com\""
   ]
  },
  {
   "cell_type": "code",
   "execution_count": 20,
   "id": "fab6030e",
   "metadata": {},
   "outputs": [
    {
     "name": "stdout",
     "output_type": "stream",
     "text": [
      "User(username='bob', email='', permissions=[], user_id='6c2a07ecb22d4560ad05567f4975f71f')\n"
     ]
    }
   ],
   "source": [
    "user = User(username=\"bob\",_secret=\"top_secret\")\n",
    "print(user)"
   ]
  },
  {
   "cell_type": "code",
   "execution_count": null,
   "id": "4f06d819",
   "metadata": {},
   "outputs": [],
   "source": []
  }
 ],
 "metadata": {
  "kernelspec": {
   "display_name": "zhd",
   "language": "python",
   "name": "python3"
  },
  "language_info": {
   "codemirror_mode": {
    "name": "ipython",
    "version": 3
   },
   "file_extension": ".py",
   "mimetype": "text/x-python",
   "name": "python",
   "nbconvert_exporter": "python",
   "pygments_lexer": "ipython3",
   "version": "3.9.16"
  }
 },
 "nbformat": 4,
 "nbformat_minor": 5
}
